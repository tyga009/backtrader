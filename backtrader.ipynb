{
 "cells": [
  {
   "cell_type": "code",
   "execution_count": 5,
   "source": [
    "import requests\r\n",
    "import json\r\n",
    "import pandas as pd\r\n",
    "import datetime as dt\r\n",
    "import matplotlib.pyplot as plt\r\n",
    "import qgrid"
   ],
   "outputs": [],
   "metadata": {}
  },
  {
   "cell_type": "code",
   "execution_count": 10,
   "source": [
    "url = \"https://api.binance.com/api/v3/klines\"\r\n",
    "\r\n",
    "symbol = 'BTCUSDT'\r\n",
    "interval = '4h'#kline頻率\r\n",
    "startTime = str(int(dt.datetime(2019, 12, 1).timestamp() * 1000))\r\n",
    "endTime = str(int(dt.datetime(2021, 9, 20).timestamp() * 1000))\r\n",
    "limit = '1000'\r\n",
    "\r\n",
    "req_params = {\"symbol\" : symbol, 'interval' : interval, 'startTime' : startTime, 'endTime' : endTime, 'limit' : limit}\r\n",
    "req_params"
   ],
   "outputs": [
    {
     "output_type": "execute_result",
     "data": {
      "text/plain": [
       "{'symbol': 'BTCUSDT',\n",
       " 'interval': '4h',\n",
       " 'startTime': '1575129600000',\n",
       " 'endTime': '1632067200000',\n",
       " 'limit': '1000'}"
      ]
     },
     "metadata": {},
     "execution_count": 10
    }
   ],
   "metadata": {}
  }
 ],
 "metadata": {
  "orig_nbformat": 4,
  "language_info": {
   "name": "python",
   "version": "3.9.0",
   "mimetype": "text/x-python",
   "codemirror_mode": {
    "name": "ipython",
    "version": 3
   },
   "pygments_lexer": "ipython3",
   "nbconvert_exporter": "python",
   "file_extension": ".py"
  },
  "kernelspec": {
   "name": "python3",
   "display_name": "Python 3.9.0 64-bit"
  },
  "interpreter": {
   "hash": "6b543378b54c007d088b922b502e121ff670fafd1fd44714af4606c0dd8c6638"
  }
 },
 "nbformat": 4,
 "nbformat_minor": 2
}